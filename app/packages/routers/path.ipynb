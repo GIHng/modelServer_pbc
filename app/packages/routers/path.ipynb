{
 "cells": [
  {
   "cell_type": "markdown",
   "source": [],
   "metadata": {
    "collapsed": false
   },
   "id": "f1ea5df62e8aa99"
  },
  {
   "cell_type": "code",
   "execution_count": null,
   "outputs": [],
   "source": [],
   "metadata": {
    "collapsed": false
   },
   "id": "c064894fb1636f16"
  },
  {
   "cell_type": "code",
   "execution_count": null,
   "outputs": [],
   "source": [],
   "metadata": {
    "collapsed": false
   },
   "id": "2c72d0fc8e5cbce"
  },
  {
   "cell_type": "code",
   "execution_count": 1,
   "id": "initial_id",
   "metadata": {
    "collapsed": true,
    "ExecuteTime": {
     "end_time": "2023-10-26T05:13:14.544229Z",
     "start_time": "2023-10-26T05:13:14.540103Z"
    }
   },
   "outputs": [],
   "source": [
    "import os"
   ]
  },
  {
   "cell_type": "code",
   "execution_count": 2,
   "outputs": [
    {
     "name": "stdout",
     "output_type": "stream",
     "text": [
      "/Users/hyeongihong/Documents/lv3_fastapi/app/packages/routers\n"
     ]
    },
    {
     "data": {
      "text/plain": "        subsr  asset_nm ct_cl genre_of_ct_cl  use_tms         strt_dt  \\\n0    60939000        아인    영화         SF/환타지        8  20230901184812   \n1    60939000        루퍼    영화         SF/환타지       76  20230905194753   \n2    60784000      컴어웨이    영화         SF/환타지      141  20230905034705   \n3    63101000     뒤틀린 집    영화         공포/스릴러      100  20230902153105   \n4    66159000     시간이탈자    영화         공포/스릴러     2269  20230902150749   \n..        ...       ...   ...            ...      ...             ...   \n144  66056000     롤러코스터    영화            코미디     1091  20230907061205   \n145  65931000     두번할까요    영화            코미디      537  20230912111826   \n146  65931000  정직한 후보 2    영화            코미디     3073  20230922215534   \n147  65931000        드림    영화            코미디     7490  20230922130149   \n148  65931000     좋.댓.구    영화            코미디      106  20230925001132   \n\n                                                 ByApi  \\\n0    {'page': 1, 'results': [{'adult': False, 'back...   \n1    {'page': 1, 'results': [{'adult': False, 'back...   \n2    {'page': 1, 'results': [{'adult': False, 'back...   \n3    {'page': 1, 'results': [{'adult': False, 'back...   \n4    {'page': 1, 'results': [{'adult': False, 'back...   \n..                                                 ...   \n144  {'page': 1, 'results': [{'adult': False, 'back...   \n145  {'page': 1, 'results': [{'adult': False, 'back...   \n146  {'page': 1, 'results': [{'adult': False, 'back...   \n147  {'page': 1, 'results': [{'adult': False, 'back...   \n148  {'page': 1, 'results': [{'adult': False, 'back...   \n\n                                           description  \n0    신비의 숲 아마존 깊은 곳에 위치한 칸다모 마을. 생명과 자연의 아름다움이 넘치던 ...  \n1    암흑의 도시로 변해버린 2074년 캔자스. 시간여행은 불법으로 규정돼 거대 범죄 조...  \n2    영국의 한 시골 마을, 칼 싸움을 하며 해적선 모험 놀이를 하며 행복한 나날을 보내...  \n3    피치 못할 사정으로 외딴집에 이사 오게 된 가족. 엄마 명혜는 이사 온 첫 날부터 ...  \n4    1983년 1월 1일, 고등학교 교사 지환은 같은 학교 동료이자 연인인 윤정에게 청...  \n..                                                 ...  \n144  중년 남자 량페이는 펜데믹으로 인해 도시가 봉쇄되기 직전 인생 처음으로 롤러코스터를...  \n145  꿈꿔왔던 싱글라이프 현우. 쪽팔림을 무릅쓰고 감행했던 이혼식 후, 드디어 싱글라이프...  \n146  서울시장 선거에서 떨어지며 쫄딱 망한 백수가 된 주상숙은 우연히 바다에 빠진 한 청...  \n147  선수 생활 사상 최악의 위기를 맞은 쏘울리스 축구 선수 홍대. 계획도, 의지도 없던...  \n148  한때 떠오르는 배우였던 오태경은 슬럼프의 돌파구로 영화 '올드보이'의 콘셉트를 빌려...  \n\n[149 rows x 8 columns]",
      "text/html": "<div>\n<style scoped>\n    .dataframe tbody tr th:only-of-type {\n        vertical-align: middle;\n    }\n\n    .dataframe tbody tr th {\n        vertical-align: top;\n    }\n\n    .dataframe thead th {\n        text-align: right;\n    }\n</style>\n<table border=\"1\" class=\"dataframe\">\n  <thead>\n    <tr style=\"text-align: right;\">\n      <th></th>\n      <th>subsr</th>\n      <th>asset_nm</th>\n      <th>ct_cl</th>\n      <th>genre_of_ct_cl</th>\n      <th>use_tms</th>\n      <th>strt_dt</th>\n      <th>ByApi</th>\n      <th>description</th>\n    </tr>\n  </thead>\n  <tbody>\n    <tr>\n      <th>0</th>\n      <td>60939000</td>\n      <td>아인</td>\n      <td>영화</td>\n      <td>SF/환타지</td>\n      <td>8</td>\n      <td>20230901184812</td>\n      <td>{'page': 1, 'results': [{'adult': False, 'back...</td>\n      <td>신비의 숲 아마존 깊은 곳에 위치한 칸다모 마을. 생명과 자연의 아름다움이 넘치던 ...</td>\n    </tr>\n    <tr>\n      <th>1</th>\n      <td>60939000</td>\n      <td>루퍼</td>\n      <td>영화</td>\n      <td>SF/환타지</td>\n      <td>76</td>\n      <td>20230905194753</td>\n      <td>{'page': 1, 'results': [{'adult': False, 'back...</td>\n      <td>암흑의 도시로 변해버린 2074년 캔자스. 시간여행은 불법으로 규정돼 거대 범죄 조...</td>\n    </tr>\n    <tr>\n      <th>2</th>\n      <td>60784000</td>\n      <td>컴어웨이</td>\n      <td>영화</td>\n      <td>SF/환타지</td>\n      <td>141</td>\n      <td>20230905034705</td>\n      <td>{'page': 1, 'results': [{'adult': False, 'back...</td>\n      <td>영국의 한 시골 마을, 칼 싸움을 하며 해적선 모험 놀이를 하며 행복한 나날을 보내...</td>\n    </tr>\n    <tr>\n      <th>3</th>\n      <td>63101000</td>\n      <td>뒤틀린 집</td>\n      <td>영화</td>\n      <td>공포/스릴러</td>\n      <td>100</td>\n      <td>20230902153105</td>\n      <td>{'page': 1, 'results': [{'adult': False, 'back...</td>\n      <td>피치 못할 사정으로 외딴집에 이사 오게 된 가족. 엄마 명혜는 이사 온 첫 날부터 ...</td>\n    </tr>\n    <tr>\n      <th>4</th>\n      <td>66159000</td>\n      <td>시간이탈자</td>\n      <td>영화</td>\n      <td>공포/스릴러</td>\n      <td>2269</td>\n      <td>20230902150749</td>\n      <td>{'page': 1, 'results': [{'adult': False, 'back...</td>\n      <td>1983년 1월 1일, 고등학교 교사 지환은 같은 학교 동료이자 연인인 윤정에게 청...</td>\n    </tr>\n    <tr>\n      <th>...</th>\n      <td>...</td>\n      <td>...</td>\n      <td>...</td>\n      <td>...</td>\n      <td>...</td>\n      <td>...</td>\n      <td>...</td>\n      <td>...</td>\n    </tr>\n    <tr>\n      <th>144</th>\n      <td>66056000</td>\n      <td>롤러코스터</td>\n      <td>영화</td>\n      <td>코미디</td>\n      <td>1091</td>\n      <td>20230907061205</td>\n      <td>{'page': 1, 'results': [{'adult': False, 'back...</td>\n      <td>중년 남자 량페이는 펜데믹으로 인해 도시가 봉쇄되기 직전 인생 처음으로 롤러코스터를...</td>\n    </tr>\n    <tr>\n      <th>145</th>\n      <td>65931000</td>\n      <td>두번할까요</td>\n      <td>영화</td>\n      <td>코미디</td>\n      <td>537</td>\n      <td>20230912111826</td>\n      <td>{'page': 1, 'results': [{'adult': False, 'back...</td>\n      <td>꿈꿔왔던 싱글라이프 현우. 쪽팔림을 무릅쓰고 감행했던 이혼식 후, 드디어 싱글라이프...</td>\n    </tr>\n    <tr>\n      <th>146</th>\n      <td>65931000</td>\n      <td>정직한 후보 2</td>\n      <td>영화</td>\n      <td>코미디</td>\n      <td>3073</td>\n      <td>20230922215534</td>\n      <td>{'page': 1, 'results': [{'adult': False, 'back...</td>\n      <td>서울시장 선거에서 떨어지며 쫄딱 망한 백수가 된 주상숙은 우연히 바다에 빠진 한 청...</td>\n    </tr>\n    <tr>\n      <th>147</th>\n      <td>65931000</td>\n      <td>드림</td>\n      <td>영화</td>\n      <td>코미디</td>\n      <td>7490</td>\n      <td>20230922130149</td>\n      <td>{'page': 1, 'results': [{'adult': False, 'back...</td>\n      <td>선수 생활 사상 최악의 위기를 맞은 쏘울리스 축구 선수 홍대. 계획도, 의지도 없던...</td>\n    </tr>\n    <tr>\n      <th>148</th>\n      <td>65931000</td>\n      <td>좋.댓.구</td>\n      <td>영화</td>\n      <td>코미디</td>\n      <td>106</td>\n      <td>20230925001132</td>\n      <td>{'page': 1, 'results': [{'adult': False, 'back...</td>\n      <td>한때 떠오르는 배우였던 오태경은 슬럼프의 돌파구로 영화 '올드보이'의 콘셉트를 빌려...</td>\n    </tr>\n  </tbody>\n</table>\n<p>149 rows × 8 columns</p>\n</div>"
     },
     "execution_count": 2,
     "metadata": {},
     "output_type": "execute_result"
    }
   ],
   "source": [
    "# print(os.getcwd())\n",
    "# os.chdir('../../')\n",
    "import pandas as pd\n",
    "print(os.getcwd())\n",
    "temp = pd.read_pickle('../../resource/movie.pickle')\n",
    "\n",
    "temp"
   ],
   "metadata": {
    "collapsed": false,
    "ExecuteTime": {
     "end_time": "2023-10-26T05:13:15.384435Z",
     "start_time": "2023-10-26T05:13:14.853623Z"
    }
   },
   "id": "99f9ac867c2047b6"
  },
  {
   "cell_type": "code",
   "execution_count": null,
   "outputs": [],
   "source": [],
   "metadata": {
    "collapsed": false
   },
   "id": "1f6d385dd5c95e83"
  }
 ],
 "metadata": {
  "kernelspec": {
   "display_name": "Python 3",
   "language": "python",
   "name": "python3"
  },
  "language_info": {
   "codemirror_mode": {
    "name": "ipython",
    "version": 2
   },
   "file_extension": ".py",
   "mimetype": "text/x-python",
   "name": "python",
   "nbconvert_exporter": "python",
   "pygments_lexer": "ipython2",
   "version": "2.7.6"
  }
 },
 "nbformat": 4,
 "nbformat_minor": 5
}

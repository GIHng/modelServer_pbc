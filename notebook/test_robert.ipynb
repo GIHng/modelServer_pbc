{
 "cells": [
  {
   "cell_type": "code",
   "execution_count": 4,
   "metadata": {},
   "outputs": [],
   "source": [
    "import numpy as np\n",
    "import pandas as pd\n",
    "import faiss\n",
    "from sentence_transformers import SentenceTransformer\n",
    "\n",
    "class Sbert:\n",
    "    def __init__(self):\n",
    "        # self.movie = movie = pd.read_pickle('resource/movie.pickle')\n",
    "        self.movie = pd.read_csv('./final_test_sbert_VODs_1127_1100.csv')\n",
    "        self.description_list = self.movie['SMRY'].to_list()\n",
    "        self.model_args ={\n",
    "            'sbert_klue' : 'snunlp/KR-SBERT-V40K-klueNLI-augSTS',\n",
    "            'sbert_sts':'jhgan/ko-sbert-sts',\n",
    "            'sroberta':'jhgan/ko-sroberta-multitask',\n",
    "            'albert':'bongsoo/albert-small-kor-sbert-v1.1'\n",
    "            }\n",
    "\n",
    "        self.model = SentenceTransformer(self.model_args['sroberta'])\n",
    "\n",
    "        self.encoded_data = self.model.encode(self.description_list)\n",
    "\n",
    "        # faiss 인덱스 생성 \n",
    "        # 임베딩한 값을 faiss 인덱스에 저장함.\n",
    "        self.index = faiss.IndexIDMap(faiss.IndexFlatIP(768))\n",
    "        print(self.encoded_data.shape)\n",
    "        # 데이터 id 배열\n",
    "        self.index.add_with_ids(self.encoded_data, np.array(range(0, len(self.description_list))))\n",
    "        # self.index = faiss.read_index('resource/test.index')\n",
    "    def search(self, query: str) -> dict:\n",
    "        query_vector = self.model.encode([query]) \n",
    "        k = 21\n",
    "        D,I = self.index.search(query_vector, k)\n",
    "        sorted_indices = np.argsort(D,axis=1)\n",
    "        D_sorted = np.take_along_axis(D, sorted_indices, axis=1)\n",
    "        I_sorted = np.take_along_axis(I, sorted_indices, axis=1)\n",
    "        dict_movie = self.movie.loc[I_sorted[0].tolist()].to_dict(orient='records') # 하나의 줄거리 - 21 append 105\n",
    "\n",
    "        return dict_movie\n",
    "    \n",
    "    def simular_description(self, request_data: dict) -> list:\n",
    "        desc_list = [item.description for item in request_data]\n",
    "\n",
    "        prediction = self.search(desc_list)\n",
    "        subsr_list = [item.get('preprocessed') for item in prediction]\n",
    "        return subsr_list\n",
    "    \n",
    "    def save(self):\n",
    "        faiss.write_index(self.index, './final_test_sbert_VODs_1127_1100.index')"
   ]
  },
  {
   "cell_type": "code",
   "execution_count": 5,
   "metadata": {},
   "outputs": [
    {
     "name": "stdout",
     "output_type": "stream",
     "text": [
      "(11397, 768)\n"
     ]
    }
   ],
   "source": [
    "sbert = Sbert()"
   ]
  },
  {
   "cell_type": "code",
   "execution_count": 6,
   "metadata": {},
   "outputs": [],
   "source": [
    "sbert.save()"
   ]
  },
  {
   "cell_type": "code",
   "execution_count": 3,
   "metadata": {},
   "outputs": [],
   "source": [
    "movie = pd.read_csv('./VODs_1124.csv', encoding = 'cp949')\n",
    "description_list = movie['SMRY'].to_list()"
   ]
  },
  {
   "cell_type": "code",
   "execution_count": 22,
   "metadata": {},
   "outputs": [
    {
     "data": {
      "text/plain": [
       "[237]"
      ]
     },
     "execution_count": 22,
     "metadata": {},
     "output_type": "execute_result"
    }
   ],
   "source": [
    "[max(len(str(description)) for description in description_list)]\n"
   ]
  },
  {
   "cell_type": "code",
   "execution_count": 30,
   "metadata": {},
   "outputs": [],
   "source": [
    "import torch\n",
    "import faiss\n",
    "import numpy as np\n",
    "import pandas as pd\n",
    "from transformers import AutoModel, AutoTokenizer\n",
    "\n",
    "class RoBERTa:\n",
    "    def __init__(self):\n",
    "        self.movie = pd.read_csv('./VODs_1124.csv', encoding='cp949')\n",
    "        self.description_list = self.movie['SMRY'].astype(str).to_list()\n",
    "\n",
    "        self.model = AutoModel.from_pretrained('BM-K/KoDiffCSE-RoBERTa')\n",
    "        \n",
    "        self.tokenizer = AutoTokenizer.from_pretrained('BM-K/KoDiffCSE-RoBERTa')\n",
    "        self.inputs = self.tokenizer(self.description_list, padding=True, truncation=True, return_tensors=\"pt\", max_length=256, return_attention_mask=True)\n",
    "\n",
    "        self.embeddings, _ = self.model(**self.inputs, return_dict=False)\n",
    "\n",
    "        self.embeddings_2d = np.reshape(self.embeddings, (-1, self.embeddings.shape[-1]))\n",
    "\n",
    "        self.index = faiss.IndexIDMap(faiss.IndexFlatIP(768))\n",
    "\n",
    "        # 데이터 id 배열\n",
    "        self.index.add_with_ids(self.embeddings_2d, np.array(range(0, len(self.description_list))))\n",
    "        self.index = faiss.write_index(self.index, './RoBERTa_test.index')"
   ]
  },
  {
   "cell_type": "code",
   "execution_count": 31,
   "metadata": {},
   "outputs": [],
   "source": [
    "sb = RoBERTa()"
   ]
  },
  {
   "cell_type": "code",
   "execution_count": null,
   "metadata": {},
   "outputs": [],
   "source": []
  }
 ],
 "metadata": {
  "kernelspec": {
   "display_name": "lv3_fastapi",
   "language": "python",
   "name": "python3"
  },
  "language_info": {
   "codemirror_mode": {
    "name": "ipython",
    "version": 3
   },
   "file_extension": ".py",
   "mimetype": "text/x-python",
   "name": "python",
   "nbconvert_exporter": "python",
   "pygments_lexer": "ipython3",
   "version": "3.11.5"
  }
 },
 "nbformat": 4,
 "nbformat_minor": 2
}

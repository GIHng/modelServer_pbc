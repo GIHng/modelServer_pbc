{
 "cells": [
  {
   "cell_type": "code",
   "execution_count": 2,
   "metadata": {},
   "outputs": [
    {
     "data": {
      "text/plain": [
       "{'genre1': 'comedy', 'genre2': 'crime', 'genre3': 'crime'}"
      ]
     },
     "execution_count": 2,
     "metadata": {},
     "output_type": "execute_result"
    }
   ],
   "source": [
    "\n",
    "# d2v_router.py \n",
    "# 1. models 디렉토리에서 모델 가져오고\n",
    "# 2. 라우터 설정\n",
    "#   * post, predict(결과값 산출)\n",
    "# 3. main.py 에는 d2v_router의 경로를 추가해주기\n",
    "\n",
    "from fastapi import APIRouter\n",
    "from pydantic import BaseModel\n",
    "import joblib\n",
    "\n",
    "#TODO 모델 가져오기 코드\n",
    "\n",
    "d2v = APIRouter(prefix='/d2v')\n",
    "\n",
    "# router 경로 설정\n",
    "@d2v.get('/',tags=['d2v_model'])\n",
    "async def start_d2v():\n",
    "    return {\"msg\":'d2v위치'}\n",
    "\n",
    "\n",
    "class Model(BaseModel):\n",
    "    genre1: str\n",
    "    genre2: str\n",
    "    genre3: str\n",
    "{\"genre1\":\"comedy\", \"genre2\":\"crime\", \"genre3\":\"crime\"}\n",
    "\n"
   ]
  },
  {
   "cell_type": "code",
   "execution_count": 3,
   "metadata": {},
   "outputs": [],
   "source": [
    "from gensim.models.doc2vec import Doc2Vec, TaggedDocument\n",
    "\n",
    "# 문서 샘플 데이터 (TaggedDocument 형식으로 작성)\n",
    "documents = [\n",
    "    TaggedDocument(words=[\"comedy\", \"action\", \"crime\", \"first\", \"detective\"], tags=[\"극한직업\"]),\n",
    "    TaggedDocument(words=[\"animation\", \"drama\", \"melodrama\", \"romance\"], tags=[\"너의 이름은\"]),\n",
    "    TaggedDocument(words=[\"action\", \"crime\", \"drama\"], tags=[\"더 배트맨\"]),\n",
    "]\n",
    "\n",
    "# Doc2Vec 모델 학습\n",
    "model = Doc2Vec(vector_size=20, window=2, min_count=1, workers=4, epochs=100)\n",
    "\n",
    "model.build_vocab(documents)\n",
    "model.train(documents, total_examples=model.corpus_count, epochs=model.epochs)\n",
    "\n"
   ]
  },
  {
   "cell_type": "code",
   "execution_count": 4,
   "metadata": {},
   "outputs": [],
   "source": [
    "async def get_similar_movies(genre1: str, genre2: str, genre3:str) -> list:\n",
    "    inferred_vector = model.infer_vector([genre1, genre2, genre3])\n",
    "    similar_documents = model.dv.most_similar([inferred_vector])\n",
    "    recommended_list = [elm[0] for elm in similar_documents]\n",
    "    return recommended_list\n",
    "\n",
    "# @d2v.post('/predict',tags=['d2v_model'])\n",
    "async def contents_based_rs(data: Model) -> list: # 변경 예정\n",
    "    recommended_list = get_similar_movies(data.genre1, data.genre2, data.genre3)\n",
    "    global DB\n",
    "    DB = recommended_list\n",
    "    return recommended_list\n"
   ]
  },
  {
   "cell_type": "code",
   "execution_count": null,
   "metadata": {},
   "outputs": [],
   "source": []
  },
  {
   "cell_type": "code",
   "execution_count": null,
   "metadata": {},
   "outputs": [],
   "source": []
  }
 ],
 "metadata": {
  "kernelspec": {
   "display_name": "lv3_fastapi",
   "language": "python",
   "name": "python3"
  },
  "language_info": {
   "codemirror_mode": {
    "name": "ipython",
    "version": 3
   },
   "file_extension": ".py",
   "mimetype": "text/x-python",
   "name": "python",
   "nbconvert_exporter": "python",
   "pygments_lexer": "ipython3",
   "version": "3.11.5"
  }
 },
 "nbformat": 4,
 "nbformat_minor": 2
}
